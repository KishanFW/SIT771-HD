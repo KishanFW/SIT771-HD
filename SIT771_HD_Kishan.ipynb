{
 "cells": [
  {
   "cell_type": "markdown",
   "metadata": {
    "id": "WmjJldmQccaE"
   },
   "source": [
    "# **Setup & Imports**"
   ]
  },
  {
   "cell_type": "code",
   "execution_count": 1,
   "metadata": {
    "id": "ZinFDjtAchHT"
   },
   "outputs": [],
   "source": [
    "# Import required libraries\n",
    "import pandas as pd\n",
    "import numpy as np\n",
    "from sklearn.datasets import load_iris\n",
    "from sklearn.model_selection import train_test_split\n",
    "from sklearn.neighbors import KNeighborsClassifier\n",
    "from sklearn.tree import DecisionTreeClassifier\n",
    "from sklearn.svm import SVC\n",
    "from sklearn.metrics import accuracy_score, precision_score, recall_score, f1_score, confusion_matrix\n",
    "from sklearn.preprocessing import StandardScaler\n",
    "from abc import ABC, abstractmethod\n",
    "import time\n",
    "import matplotlib.pyplot as plt\n",
    "import seaborn as sns\n",
    "import joblib\n",
    "import datetime\n",
    "\n",
    "# Widgets and file upload\n",
    "from google.colab import files\n",
    "import ipywidgets as widgets\n",
    "from IPython.display import display\n"
   ]
  },
  {
   "cell_type": "markdown",
   "metadata": {
    "id": "IqlGBN2Qci5l"
   },
   "source": [
    "# **Base Class (MLTask)**"
   ]
  },
  {
   "cell_type": "code",
   "execution_count": 2,
   "metadata": {
    "id": "B3HBOx0jcl3B"
   },
   "outputs": [],
   "source": [
    "# Abstract base class for all ML pipeline components\n",
    "# Forces all derived classes to implement a `.run()` method\n",
    "class MLTask(ABC):\n",
    "    @abstractmethod\n",
    "    def run(self):\n",
    "        pass"
   ]
  },
  {
   "cell_type": "markdown",
   "metadata": {
    "id": "F4Zb3Ugaco5i"
   },
   "source": [
    "# **DataProcessor Class**"
   ]
  },
  {
   "cell_type": "code",
   "execution_count": 3,
   "metadata": {
    "id": "CAF205CZcz3A"
   },
   "outputs": [],
   "source": [
    "# Handles dataset loading and preprocessing\n",
    "class DataProcessor(MLTask):\n",
    "    def __init__(self, df=None, target_column=None, scale_data=True):\n",
    "        self.df = df\n",
    "        self.target_column = target_column\n",
    "        self.scale_data = scale_data\n",
    "        self.X = None\n",
    "        self.y = None\n",
    "\n",
    "    def run(self):\n",
    "        if self.df is None:\n",
    "            # Load default Iris dataset if no CSV provided\n",
    "            print(\"Loading Iris dataset...\")\n",
    "            iris = load_iris(as_frame=True)\n",
    "            df = iris.frame\n",
    "            X = df.drop(columns=['target'])\n",
    "            y = df['target']\n",
    "        else:\n",
    "            print(\"Using uploaded dataset...\")\n",
    "            df = self.df.dropna()\n",
    "            X = df.drop(columns=[self.target_column])\n",
    "            y = df[self.target_column]\n",
    "\n",
    "        if self.scale_data:\n",
    "            print(\"Scaling data...\")\n",
    "            scaler = StandardScaler()\n",
    "            X = scaler.fit_transform(X)\n",
    "\n",
    "        self.X = X\n",
    "        self.y = y\n",
    "        print(\"Data prepared.\\n\")\n",
    "        return self.X, self.y"
   ]
  },
  {
   "cell_type": "markdown",
   "metadata": {
    "id": "nhf3zx7hdJkW"
   },
   "source": [
    "# **ModelTrainer Class**"
   ]
  },
  {
   "cell_type": "code",
   "execution_count": 4,
   "metadata": {
    "id": "RGQGb2LRdLCK"
   },
   "outputs": [],
   "source": [
    "# Trains the machine learning model and saves it automatically with timestamp\n",
    "class ModelTrainer(MLTask):\n",
    "    def __init__(self, model, X_train, y_train):\n",
    "        self.model = model\n",
    "        self.X_train = X_train\n",
    "        self.y_train = y_train\n",
    "        self.trained_model = None\n",
    "\n",
    "    def run(self):\n",
    "        print(f\"Training model: {type(self.model).__name__}\")\n",
    "        start_time = time.time()\n",
    "\n",
    "        # Train the model\n",
    "        self.model.fit(self.X_train, self.y_train)\n",
    "\n",
    "        elapsed = time.time() - start_time\n",
    "        print(f\"Training completed in {elapsed:.2f} seconds.\\n\")\n",
    "\n",
    "        self.trained_model = self.model\n",
    "\n",
    "        # Auto-generate filename with timestamp\n",
    "        timestamp = datetime.datetime.now().strftime(\"%Y-%m-%d_%H-%M-%S\")\n",
    "        filename = f\"trained_model_{timestamp}.pkl\"\n",
    "\n",
    "        # Save model\n",
    "        joblib.dump(self.trained_model, filename)\n",
    "        print(f\"Model saved as '{filename}'\")\n",
    "\n",
    "        return self.trained_model"
   ]
  },
  {
   "cell_type": "markdown",
   "metadata": {
    "id": "1xWawswcdj7H"
   },
   "source": [
    "# **Evaluator Class**"
   ]
  },
  {
   "cell_type": "code",
   "execution_count": 5,
   "metadata": {
    "id": "9r1IFQktdlxd"
   },
   "outputs": [],
   "source": [
    "# Evaluates the trained model using standard metrics\n",
    "class Evaluator(MLTask):\n",
    "    def __init__(self, model, X_test, y_test, average='macro', show_confusion=True):\n",
    "        self.model = model\n",
    "        self.X_test = X_test\n",
    "        self.y_test = y_test\n",
    "        self.average = average\n",
    "        self.show_confusion = show_confusion\n",
    "\n",
    "    def run(self):\n",
    "        print(\"Evaluating model...\")\n",
    "        y_pred = self.model.predict(self.X_test)\n",
    "\n",
    "        acc = accuracy_score(self.y_test, y_pred)\n",
    "        prec = precision_score(self.y_test, y_pred, average=self.average)\n",
    "        rec = recall_score(self.y_test, y_pred, average=self.average)\n",
    "        f1 = f1_score(self.y_test, y_pred, average=self.average)\n",
    "\n",
    "        print(f\"Accuracy:  {acc:.4f}\")\n",
    "        print(f\"Precision: {prec:.4f}\")\n",
    "        print(f\"Recall:    {rec:.4f}\")\n",
    "        print(f\"F1 Score:  {f1:.4f}\")\n",
    "\n",
    "        # Plot bar chart of evaluation metrics\n",
    "        metrics = [acc, prec, rec, f1]\n",
    "        labels = ['Accuracy', 'Precision', 'Recall', 'F1 Score']\n",
    "\n",
    "        plt.figure(figsize=(8, 4))\n",
    "        plt.bar(labels, metrics, color='skyblue')\n",
    "        plt.ylim(0, 1.1)\n",
    "        plt.title(\"Model Evaluation Metrics\")\n",
    "        plt.ylabel(\"Score\")\n",
    "        plt.show()\n",
    "\n",
    "        # Plot confusion matrix\n",
    "        if self.show_confusion:\n",
    "            cm = confusion_matrix(self.y_test, y_pred)\n",
    "            plt.figure(figsize=(5, 4))\n",
    "            sns.heatmap(cm, annot=True, fmt='d', cmap='Blues')\n",
    "            plt.title(\"Confusion Matrix\")\n",
    "            plt.xlabel(\"Predicted\")\n",
    "            plt.ylabel(\"Actual\")\n",
    "            plt.show()\n",
    "\n",
    "        print(\"Evaluation complete.\\n\")\n",
    "        return {\n",
    "            'accuracy': acc,\n",
    "            'precision': prec,\n",
    "            'recall': rec,\n",
    "            'f1_score': f1\n",
    "        }"
   ]
  },
  {
   "cell_type": "markdown",
   "metadata": {
    "id": "QvK8gCCsdvjX"
   },
   "source": [
    "# **MLPipelineManager Class**"
   ]
  },
  {
   "cell_type": "code",
   "execution_count": 6,
   "metadata": {
    "id": "uBil1-6NdxyZ"
   },
   "outputs": [],
   "source": [
    "# Manages the full ML pipeline process\n",
    "class MLPipelineManager:\n",
    "    def __init__(self, model, df=None, target_column=None):\n",
    "        self.model = model\n",
    "        self.df = df\n",
    "        self.target_column = target_column\n",
    "        self.metrics = None\n",
    "\n",
    "    def run(self):\n",
    "        print(\"Starting ML Pipeline...\\n\")\n",
    "        processor = DataProcessor(df=self.df, target_column=self.target_column)\n",
    "        X, y = processor.run()\n",
    "\n",
    "        X_train, X_test, y_train, y_test = train_test_split(X, y, test_size=0.3, random_state=42)\n",
    "        print(\"Data split into training and test sets.\\n\")\n",
    "\n",
    "        trainer = ModelTrainer(self.model, X_train, y_train)\n",
    "        model = trainer.run()\n",
    "\n",
    "        evaluator = Evaluator(model, X_test, y_test)\n",
    "        self.metrics = evaluator.run()\n",
    "        return self.metrics"
   ]
  },
  {
   "cell_type": "markdown",
   "metadata": {
    "id": "II8YcnsSgXK0"
   },
   "source": [
    "# **Program Class (Main Controller)**"
   ]
  },
  {
   "cell_type": "code",
   "execution_count": 7,
   "metadata": {
    "id": "k5AiRQyGgZZe"
   },
   "outputs": [],
   "source": [
    "# Main controller to manage the ML process interactively in Google Colab\n",
    "class Program:\n",
    "    def __init__(self):\n",
    "        self.uploaded_df = None\n",
    "        self.target_column_selector = None\n",
    "        self.model_selector = None\n",
    "        self.model_map = {}\n",
    "\n",
    "    def upload_file(self):\n",
    "        print(\"Please upload a CSV file.\")\n",
    "        uploaded = files.upload()\n",
    "        for fn in uploaded.keys():\n",
    "            if fn.endswith('.csv'):\n",
    "                df = pd.read_csv(fn)\n",
    "                if df.shape[1] < 2:\n",
    "                    print(\"File must contain at least 2 columns.\")\n",
    "                    return None\n",
    "                else:\n",
    "                    print(f\"File '{fn}' uploaded successfully.\")\n",
    "                    return df\n",
    "            else:\n",
    "                print(\"Invalid file format. Only CSV is supported.\")\n",
    "                return None\n",
    "\n",
    "    def select_target_column(self, df):\n",
    "        dropdown = widgets.Dropdown(options=list(df.columns), description='Target Column:')\n",
    "        display(dropdown)\n",
    "        return dropdown\n",
    "\n",
    "    def select_model(self):\n",
    "        options = {\n",
    "            'KNN': KNeighborsClassifier(),\n",
    "            'Decision Tree': DecisionTreeClassifier(),\n",
    "            'SVM': SVC()\n",
    "        }\n",
    "        dropdown = widgets.Dropdown(options=list(options.keys()), description='Model:')\n",
    "        display(dropdown)\n",
    "        return dropdown, options\n",
    "\n",
    "    def run(self):\n",
    "        # Step 1: Upload dataset\n",
    "        df = self.upload_file()\n",
    "        if df is not None:\n",
    "            self.uploaded_df = df\n",
    "            self.target_column_selector = self.select_target_column(df)\n",
    "        else:\n",
    "            print(\"Using default Iris dataset as fallback.\")\n",
    "            self.uploaded_df = None\n",
    "\n",
    "        # Step 2: Select model\n",
    "        self.model_selector, self.model_map = self.select_model()\n",
    "\n",
    "        # Step 3: Display button to trigger pipeline\n",
    "        run_button = widgets.Button(description=\"Run ML Pipeline\", button_style='success')\n",
    "        run_button.on_click(self._on_run_clicked)\n",
    "        display(run_button)\n",
    "\n",
    "    def _on_run_clicked(self, b):\n",
    "        self.run_pipeline()\n",
    "\n",
    "    def run_pipeline(self):\n",
    "        # Get selected model and target column\n",
    "        target_col = self.target_column_selector.value if self.uploaded_df is not None else None\n",
    "        selected_model = self.model_map[self.model_selector.value]\n",
    "\n",
    "        # Run pipeline\n",
    "        pipeline = MLPipelineManager(model=selected_model, df=self.uploaded_df, target_column=target_col)\n",
    "        metrics = pipeline.run()\n",
    "\n",
    "        # Show final metrics in the output\n",
    "        print(\"Final Evaluation Results:\")\n",
    "        for key, value in metrics.items():\n",
    "            print(f\"{key.capitalize()}: {value:.4f}\")"
   ]
  },
  {
   "cell_type": "markdown",
   "metadata": {
    "id": "ygwzmDT4hudA"
   },
   "source": [
    "# **Run**"
   ]
  },
  {
   "cell_type": "code",
   "execution_count": 9,
   "metadata": {
    "colab": {
     "base_uri": "https://localhost:8080/",
     "height": 1000,
     "referenced_widgets": [
      "9db37ccee1c9431989dcd2c040351197",
      "719ef8a6a7ee4ec2a2dcea900416f784",
      "abbfa19a5f664dabaf4a7f5d825909e3",
      "89a52784dc5b43ad8d0d4b2ad23792a1",
      "4cee8150f44544e6bcddafbc7157d604",
      "272dbaad91c64f19813f5ddb333532f8",
      "776b37dba7e34f6cb3f456c9d4fecb47",
      "121058d9e91741f98f3939608fafa818",
      "0e987a5abf254da3854d1e7fc8947a7e"
     ]
    },
    "id": "-ebr_DlfhwNd",
    "outputId": "7c0efd55-9e4d-45a6-9b65-f7e25808740e"
   },
   "outputs": [
    {
     "name": "stdout",
     "output_type": "stream",
     "text": [
      "Please upload a CSV file.\n"
     ]
    },
    {
     "data": {
      "text/html": [
       "\n",
       "     <input type=\"file\" id=\"files-7ffb39a0-61ea-4baf-826b-ba161a93b252\" name=\"files[]\" multiple disabled\n",
       "        style=\"border:none\" />\n",
       "     <output id=\"result-7ffb39a0-61ea-4baf-826b-ba161a93b252\">\n",
       "      Upload widget is only available when the cell has been executed in the\n",
       "      current browser session. Please rerun this cell to enable.\n",
       "      </output>\n",
       "      <script>// Copyright 2017 Google LLC\n",
       "//\n",
       "// Licensed under the Apache License, Version 2.0 (the \"License\");\n",
       "// you may not use this file except in compliance with the License.\n",
       "// You may obtain a copy of the License at\n",
       "//\n",
       "//      http://www.apache.org/licenses/LICENSE-2.0\n",
       "//\n",
       "// Unless required by applicable law or agreed to in writing, software\n",
       "// distributed under the License is distributed on an \"AS IS\" BASIS,\n",
       "// WITHOUT WARRANTIES OR CONDITIONS OF ANY KIND, either express or implied.\n",
       "// See the License for the specific language governing permissions and\n",
       "// limitations under the License.\n",
       "\n",
       "/**\n",
       " * @fileoverview Helpers for google.colab Python module.\n",
       " */\n",
       "(function(scope) {\n",
       "function span(text, styleAttributes = {}) {\n",
       "  const element = document.createElement('span');\n",
       "  element.textContent = text;\n",
       "  for (const key of Object.keys(styleAttributes)) {\n",
       "    element.style[key] = styleAttributes[key];\n",
       "  }\n",
       "  return element;\n",
       "}\n",
       "\n",
       "// Max number of bytes which will be uploaded at a time.\n",
       "const MAX_PAYLOAD_SIZE = 100 * 1024;\n",
       "\n",
       "function _uploadFiles(inputId, outputId) {\n",
       "  const steps = uploadFilesStep(inputId, outputId);\n",
       "  const outputElement = document.getElementById(outputId);\n",
       "  // Cache steps on the outputElement to make it available for the next call\n",
       "  // to uploadFilesContinue from Python.\n",
       "  outputElement.steps = steps;\n",
       "\n",
       "  return _uploadFilesContinue(outputId);\n",
       "}\n",
       "\n",
       "// This is roughly an async generator (not supported in the browser yet),\n",
       "// where there are multiple asynchronous steps and the Python side is going\n",
       "// to poll for completion of each step.\n",
       "// This uses a Promise to block the python side on completion of each step,\n",
       "// then passes the result of the previous step as the input to the next step.\n",
       "function _uploadFilesContinue(outputId) {\n",
       "  const outputElement = document.getElementById(outputId);\n",
       "  const steps = outputElement.steps;\n",
       "\n",
       "  const next = steps.next(outputElement.lastPromiseValue);\n",
       "  return Promise.resolve(next.value.promise).then((value) => {\n",
       "    // Cache the last promise value to make it available to the next\n",
       "    // step of the generator.\n",
       "    outputElement.lastPromiseValue = value;\n",
       "    return next.value.response;\n",
       "  });\n",
       "}\n",
       "\n",
       "/**\n",
       " * Generator function which is called between each async step of the upload\n",
       " * process.\n",
       " * @param {string} inputId Element ID of the input file picker element.\n",
       " * @param {string} outputId Element ID of the output display.\n",
       " * @return {!Iterable<!Object>} Iterable of next steps.\n",
       " */\n",
       "function* uploadFilesStep(inputId, outputId) {\n",
       "  const inputElement = document.getElementById(inputId);\n",
       "  inputElement.disabled = false;\n",
       "\n",
       "  const outputElement = document.getElementById(outputId);\n",
       "  outputElement.innerHTML = '';\n",
       "\n",
       "  const pickedPromise = new Promise((resolve) => {\n",
       "    inputElement.addEventListener('change', (e) => {\n",
       "      resolve(e.target.files);\n",
       "    });\n",
       "  });\n",
       "\n",
       "  const cancel = document.createElement('button');\n",
       "  inputElement.parentElement.appendChild(cancel);\n",
       "  cancel.textContent = 'Cancel upload';\n",
       "  const cancelPromise = new Promise((resolve) => {\n",
       "    cancel.onclick = () => {\n",
       "      resolve(null);\n",
       "    };\n",
       "  });\n",
       "\n",
       "  // Wait for the user to pick the files.\n",
       "  const files = yield {\n",
       "    promise: Promise.race([pickedPromise, cancelPromise]),\n",
       "    response: {\n",
       "      action: 'starting',\n",
       "    }\n",
       "  };\n",
       "\n",
       "  cancel.remove();\n",
       "\n",
       "  // Disable the input element since further picks are not allowed.\n",
       "  inputElement.disabled = true;\n",
       "\n",
       "  if (!files) {\n",
       "    return {\n",
       "      response: {\n",
       "        action: 'complete',\n",
       "      }\n",
       "    };\n",
       "  }\n",
       "\n",
       "  for (const file of files) {\n",
       "    const li = document.createElement('li');\n",
       "    li.append(span(file.name, {fontWeight: 'bold'}));\n",
       "    li.append(span(\n",
       "        `(${file.type || 'n/a'}) - ${file.size} bytes, ` +\n",
       "        `last modified: ${\n",
       "            file.lastModifiedDate ? file.lastModifiedDate.toLocaleDateString() :\n",
       "                                    'n/a'} - `));\n",
       "    const percent = span('0% done');\n",
       "    li.appendChild(percent);\n",
       "\n",
       "    outputElement.appendChild(li);\n",
       "\n",
       "    const fileDataPromise = new Promise((resolve) => {\n",
       "      const reader = new FileReader();\n",
       "      reader.onload = (e) => {\n",
       "        resolve(e.target.result);\n",
       "      };\n",
       "      reader.readAsArrayBuffer(file);\n",
       "    });\n",
       "    // Wait for the data to be ready.\n",
       "    let fileData = yield {\n",
       "      promise: fileDataPromise,\n",
       "      response: {\n",
       "        action: 'continue',\n",
       "      }\n",
       "    };\n",
       "\n",
       "    // Use a chunked sending to avoid message size limits. See b/62115660.\n",
       "    let position = 0;\n",
       "    do {\n",
       "      const length = Math.min(fileData.byteLength - position, MAX_PAYLOAD_SIZE);\n",
       "      const chunk = new Uint8Array(fileData, position, length);\n",
       "      position += length;\n",
       "\n",
       "      const base64 = btoa(String.fromCharCode.apply(null, chunk));\n",
       "      yield {\n",
       "        response: {\n",
       "          action: 'append',\n",
       "          file: file.name,\n",
       "          data: base64,\n",
       "        },\n",
       "      };\n",
       "\n",
       "      let percentDone = fileData.byteLength === 0 ?\n",
       "          100 :\n",
       "          Math.round((position / fileData.byteLength) * 100);\n",
       "      percent.textContent = `${percentDone}% done`;\n",
       "\n",
       "    } while (position < fileData.byteLength);\n",
       "  }\n",
       "\n",
       "  // All done.\n",
       "  yield {\n",
       "    response: {\n",
       "      action: 'complete',\n",
       "    }\n",
       "  };\n",
       "}\n",
       "\n",
       "scope.google = scope.google || {};\n",
       "scope.google.colab = scope.google.colab || {};\n",
       "scope.google.colab._files = {\n",
       "  _uploadFiles,\n",
       "  _uploadFilesContinue,\n",
       "};\n",
       "})(self);\n",
       "</script> "
      ],
      "text/plain": [
       "<IPython.core.display.HTML object>"
      ]
     },
     "metadata": {},
     "output_type": "display_data"
    },
    {
     "name": "stdout",
     "output_type": "stream",
     "text": [
      "Saving breast_cancer_full.csv to breast_cancer_full.csv\n",
      "File 'breast_cancer_full.csv' uploaded successfully.\n"
     ]
    },
    {
     "data": {
      "application/vnd.jupyter.widget-view+json": {
       "model_id": "9db37ccee1c9431989dcd2c040351197",
       "version_major": 2,
       "version_minor": 0
      },
      "text/plain": [
       "Dropdown(description='Target Column:', options=('mean radius', 'mean texture', 'mean perimeter', 'mean area', …"
      ]
     },
     "metadata": {},
     "output_type": "display_data"
    },
    {
     "data": {
      "application/vnd.jupyter.widget-view+json": {
       "model_id": "89a52784dc5b43ad8d0d4b2ad23792a1",
       "version_major": 2,
       "version_minor": 0
      },
      "text/plain": [
       "Dropdown(description='Model:', options=('KNN', 'Decision Tree', 'SVM'), value='KNN')"
      ]
     },
     "metadata": {},
     "output_type": "display_data"
    },
    {
     "data": {
      "application/vnd.jupyter.widget-view+json": {
       "model_id": "776b37dba7e34f6cb3f456c9d4fecb47",
       "version_major": 2,
       "version_minor": 0
      },
      "text/plain": [
       "Button(button_style='success', description='Run ML Pipeline', style=ButtonStyle())"
      ]
     },
     "metadata": {},
     "output_type": "display_data"
    },
    {
     "name": "stdout",
     "output_type": "stream",
     "text": [
      "Starting ML Pipeline...\n",
      "\n",
      "Using uploaded dataset...\n",
      "Scaling data...\n",
      "Data prepared.\n",
      "\n",
      "Data split into training and test sets.\n",
      "\n",
      "Training model: SVC\n",
      "Training completed in 0.00 seconds.\n",
      "\n",
      "Model saved as 'trained_model_2025-05-17_09-36-01.pkl'\n",
      "Evaluating model...\n",
      "Accuracy:  0.9708\n",
      "Precision: 0.9672\n",
      "Recall:    0.9702\n",
      "F1 Score:  0.9687\n"
     ]
    },
    {
     "data": {
      "image/png": "[encoded data removed]",
      "text/plain": [
       "<Figure size 800x400 with 1 Axes>"
      ]
     },
     "metadata": {},
     "output_type": "display_data"
    },
    {
     "data": {
      "image/png": "[encoded data removed]",
      "text/plain": [
       "<Figure size 500x400 with 2 Axes>"
      ]
     },
     "metadata": {},
     "output_type": "display_data"
    },
    {
     "name": "stdout",
     "output_type": "stream",
     "text": [
      "Evaluation complete.\n",
      "\n",
      "Final Evaluation Results:\n",
      "Accuracy: 0.9708\n",
      "Precision: 0.9672\n",
      "Recall: 0.9702\n",
      "F1_score: 0.9687\n"
     ]
    }
   ],
   "source": [
    "app = Program()\n",
    "app.run()"
   ]
  }
 ],
 "metadata": {
  "colab": {
   "provenance": []
  },
  "kernelspec": {
   "display_name": "Python 3",
   "name": "python3"
  },
  "language_info": {
   "name": "python"
  }
 },
 "nbformat": 4,
 "nbformat_minor": 0
}
